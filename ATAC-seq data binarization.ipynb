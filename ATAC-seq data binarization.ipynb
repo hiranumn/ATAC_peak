{
 "cells": [
  {
   "cell_type": "code",
   "execution_count": 1,
   "metadata": {
    "collapsed": false
   },
   "outputs": [
    {
     "name": "stderr",
     "output_type": "stream",
     "text": [
      "Using Theano backend.\n",
      "WARNING (theano.sandbox.cuda): The cuda backend is deprecated and will be removed in the next release (v0.10).  Please switch to the gpuarray backend. You can get more information about how to switch at this URL:\n",
      " https://github.com/Theano/Theano/wiki/Converting-to-the-new-gpu-back-end%28gpuarray%29\n",
      "\n",
      "Using gpu device 0: GeForce GTX 980 Ti (CNMeM is disabled, cuDNN 5005)\n"
     ]
    }
   ],
   "source": [
    "%matplotlib inline\n",
    "\n",
    "import sys\n",
    "sys.path.append(\"../../ee595\")\n",
    "from deepsea import *\n",
    "\n",
    "import numpy as np\n",
    "import scipy as sp\n",
    "import scipy.io as sio\n",
    "\n",
    "import h5py\n",
    "\n",
    "import seaborn as sns\n",
    "import matplotlib.pyplot as plt"
   ]
  },
  {
   "cell_type": "code",
   "execution_count": 2,
   "metadata": {
    "collapsed": true
   },
   "outputs": [],
   "source": [
    "train_atac = np.load(\"traindata-multitask/train_atac.npy\")\n",
    "test_atac = np.load(\"traindata-multitask/test_atac.npy\")\n",
    "valid_atac = np.load(\"traindata-multitask/valid_atac.npy\")"
   ]
  },
  {
   "cell_type": "code",
   "execution_count": 60,
   "metadata": {
    "collapsed": false
   },
   "outputs": [],
   "source": [
    "def quantize_matrix(m, partition=10, _bot=0, _top=1):\n",
    "    ret = np.zeros((len(m), partition))\n",
    "    step = 1.0/partition*(_top-_bot)\n",
    "    for i in range(len(m)):\n",
    "        j_max = int(np.round((m[i]-_bot)/step))\n",
    "        for j in range(j_max):\n",
    "            ret[i,j] = 1\n",
    "    return ret"
   ]
  },
  {
   "cell_type": "markdown",
   "metadata": {},
   "source": [
    "# Visual insepection"
   ]
  },
  {
   "cell_type": "code",
   "execution_count": 55,
   "metadata": {
    "collapsed": false
   },
   "outputs": [
    {
     "data": {
      "text/plain": [
       "([], <a list of 0 Text yticklabel objects>)"
      ]
     },
     "execution_count": 55,
     "metadata": {},
     "output_type": "execute_result"
    },
    {
     "data": {
      "image/png": "[encoded data removed]",
      "text/plain": [
       "<matplotlib.figure.Figure at 0x7f6402c54e90>"
      ]
     },
     "metadata": {},
     "output_type": "display_data"
    }
   ],
   "source": [
    "plt.figure(figsize=(12,3))\n",
    "plt.bar(range(1000), train_atac[0][0, :, 0], linewidth=0)\n",
    "plt.xticks([],[])\n",
    "plt.yticks([],[])"
   ]
  },
  {
   "cell_type": "code",
   "execution_count": 57,
   "metadata": {
    "collapsed": false
   },
   "outputs": [
    {
     "data": {
      "text/plain": [
       "0.41490437852884149"
      ]
     },
     "execution_count": 57,
     "metadata": {},
     "output_type": "execute_result"
    }
   ],
   "source": [
    "max(train_atac[0][0, :, 0])"
   ]
  },
  {
   "cell_type": "code",
   "execution_count": 61,
   "metadata": {
    "collapsed": false
   },
   "outputs": [
    {
     "data": {
      "text/plain": [
       "([], <a list of 0 Text yticklabel objects>)"
      ]
     },
     "execution_count": 61,
     "metadata": {},
     "output_type": "execute_result"
    },
    {
     "data": {
      "image/png": "[encoded data removed]",
      "text/plain": [
       "<matplotlib.figure.Figure at 0x7f6401b5bb90>"
      ]
     },
     "metadata": {},
     "output_type": "display_data"
    }
   ],
   "source": [
    "plt.figure(figsize=(12,3))\n",
    "test = quantize_matrix(train_atac[0][0, :, 0], partition=5)\n",
    "sns.heatmap(np.transpose(test), cbar=False)\n",
    "plt.xticks([],[])\n",
    "plt.yticks([],[])"
   ]
  },
  {
   "cell_type": "markdown",
   "metadata": {},
   "source": [
    "# Data processing"
   ]
  },
  {
   "cell_type": "code",
   "execution_count": 80,
   "metadata": {
    "collapsed": false
   },
   "outputs": [],
   "source": [
    "data = test_atac\n",
    "processed = []\n",
    "for i in data:\n",
    "    temp = i[0,:,0]\n",
    "    qed = quantize_matrix(temp, partition=5)\n",
    "    processed.append(qed)\n",
    "processed = np.array(processed)\n",
    "processed = np.expand_dims(processed, 1)\n",
    "np.save(\"binary_atac_test.npy\", processed)"
   ]
  },
  {
   "cell_type": "code",
   "execution_count": null,
   "metadata": {
    "collapsed": true
   },
   "outputs": [],
   "source": [
    "data = valid_atac\n",
    "processed = []\n",
    "for i in data:\n",
    "    temp = i[0,:,0]\n",
    "    qed = quantize_matrix(temp, partition=5)\n",
    "    processed.append(qed)\n",
    "processed = np.array(processed)\n",
    "processed = np.expand_dims(processed, 1)\n",
    "np.save(\"binary_atac_valid.npy\", processed)"
   ]
  },
  {
   "cell_type": "code",
   "execution_count": null,
   "metadata": {
    "collapsed": true
   },
   "outputs": [],
   "source": [
    "data = train_atac\n",
    "processed = []\n",
    "for i in data:\n",
    "    temp = i[0,:,0]\n",
    "    qed = quantize_matrix(temp, partition=5)\n",
    "    processed.append(qed)\n",
    "processed = np.array(processed)\n",
    "processed = np.expand_dims(processed, 1)\n",
    "np.save(\"binary_atac_train.npy\", processed)"
   ]
  }
 ],
 "metadata": {
  "kernelspec": {
   "display_name": "Python 2",
   "language": "python",
   "name": "python2"
  },
  "language_info": {
   "codemirror_mode": {
    "name": "ipython",
    "version": 2
   },
   "file_extension": ".py",
   "mimetype": "text/x-python",
   "name": "python",
   "nbconvert_exporter": "python",
   "pygments_lexer": "ipython2",
   "version": "2.7.13"
  }
 },
 "nbformat": 4,
 "nbformat_minor": 2
}
