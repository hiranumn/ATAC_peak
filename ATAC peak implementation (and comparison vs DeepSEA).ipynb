{
 "cells": [
  {
   "cell_type": "code",
   "execution_count": 93,
   "metadata": {
    "collapsed": false
   },
   "outputs": [],
   "source": [
    "%matplotlib inline\n",
    "\n",
    "import sys\n",
    "sys.path.append(\"../../ee595\")\n",
    "from deepsea import *\n",
    "\n",
    "from keras.models import Sequential\n",
    "from keras.layers import Flatten, Dense, Dropout\n",
    "from keras.layers import Reshape\n",
    "from keras.layers.core import Activation\n",
    "from keras.layers.normalization import BatchNormalization\n",
    "from keras.layers.convolutional import UpSampling2D\n",
    "from keras.layers.convolutional import Conv2D, MaxPooling2D\n",
    "from keras.layers.core import Flatten\n",
    "from keras.optimizers import SGD\n",
    "from keras import regularizers\n",
    "from keras.callbacks import ModelCheckpoint\n",
    "\n",
    "from sklearn.preprocessing import binarize\n",
    "from sklearn.metrics import average_precision_score\n",
    "from sklearn.metrics import roc_auc_score, roc_curve\n",
    "\n",
    "import numpy as np\n",
    "import scipy as sp\n",
    "import scipy.io as sio\n",
    "\n",
    "import h5py\n",
    "\n",
    "import seaborn as sns\n",
    "import matplotlib.pyplot as plt\n",
    "\n",
    "import pickle\n",
    "from keras.models import load_model\n",
    "\n",
    "sys.path.append(\"../../IntegratedGradients\")\n",
    "from IntegratedGradients import integrated_gradients"
   ]
  },
  {
   "cell_type": "code",
   "execution_count": 109,
   "metadata": {
    "collapsed": true
   },
   "outputs": [],
   "source": [
    "def save_obj(obj, name):\n",
    "    with open(name, 'wb') as f:\n",
    "        pickle.dump(obj, f, pickle.HIGHEST_PROTOCOL)\n",
    "\n",
    "def load_obj(name ):\n",
    "    with open(name, 'rb') as f:\n",
    "        return pickle.load(f)"
   ]
  },
  {
   "cell_type": "code",
   "execution_count": 116,
   "metadata": {
    "collapsed": true
   },
   "outputs": [],
   "source": [
    "def load_result(files):\n",
    "    labels = [\"acc\", \"loss\", \"val_loss\", \"val_acc\"]\n",
    "    ret = {\"acc\":[], \"loss\":[], \"val_loss\":[], \"val_acc\":[],}\n",
    "    for path in files:\n",
    "        result = load_obj(path)\n",
    "        for l in labels:\n",
    "            ret[l] = ret[l] + result[l]\n",
    "    return ret"
   ]
  },
  {
   "cell_type": "markdown",
   "metadata": {},
   "source": [
    "# Building the machine learning model\n",
    "\n",
    "ATACPeak is basically deepsea with ATAC-seq information.\n",
    "Deepsea is basically deepsea except that you only have 1 output."
   ]
  },
  {
   "cell_type": "code",
   "execution_count": 2,
   "metadata": {
    "collapsed": true
   },
   "outputs": [],
   "source": [
    "def ATACPeak():\n",
    "    nkernels = [320,480,960]\n",
    "    in_size = (1,1000,5)\n",
    "    l2_lam = 5e-07 \n",
    "    l1_lam = 1e-08 \n",
    "\n",
    "    model = Sequential()\n",
    "    model.add(Conv2D(nkernels[0], kernel_size=(1,8), strides=(1,1), padding='same', input_shape=in_size, kernel_regularizer=regularizers.l2(l2_lam)))\n",
    "    model.add(Activation('relu'))\n",
    "    model.add(MaxPooling2D(pool_size=(1,4), strides=(1,4)))\n",
    "    model.add(Dropout(0.2))\n",
    "    \n",
    "    #expecting \n",
    "    #(4,250,320) here\n",
    "\n",
    "    model.add(Conv2D(nkernels[1], kernel_size=(1,8), strides=(1,1), padding='same', kernel_regularizer=regularizers.l2(l2_lam)))\n",
    "    model.add(Activation('relu'))\n",
    "    model.add(MaxPooling2D(pool_size=(1,4), strides=(1,4)))\n",
    "    model.add(Dropout(0.2))\n",
    "\n",
    "    model.add(Conv2D(nkernels[1], kernel_size=(1,8), strides=(1,1), padding='same', kernel_regularizer=regularizers.l2(l2_lam)))\n",
    "    model.add(Activation('relu'))\n",
    "    model.add(Dropout(0.5))\n",
    "\n",
    "    model.add(Flatten())\n",
    "    model.add(Dense(919, kernel_regularizer=regularizers.l1(l1_lam)))\n",
    "    model.add(Activation('relu'))\n",
    "    model.add(Dense(1, kernel_regularizer=regularizers.l1(l1_lam)))\n",
    "    model.add(Activation('sigmoid'))\n",
    "    \n",
    "    return model"
   ]
  },
  {
   "cell_type": "code",
   "execution_count": 115,
   "metadata": {
    "collapsed": true
   },
   "outputs": [],
   "source": [
    "def DeepSEA():\n",
    "    nkernels = [320,480,960]\n",
    "    in_size = (1,1000,4)\n",
    "    l2_lam = 5e-07 \n",
    "    l1_lam = 1e-08 \n",
    "\n",
    "    model = Sequential()\n",
    "    model.add(Conv2D(nkernels[0], kernel_size=(1,8), strides=(1,1), padding='same', input_shape=in_size, kernel_regularizer=regularizers.l2(l2_lam)))\n",
    "    model.add(Activation('relu'))\n",
    "    model.add(MaxPooling2D(pool_size=(1,4), strides=(1,4)))\n",
    "    model.add(Dropout(0.2))\n",
    "    \n",
    "    #expecting \n",
    "    #(4,250,320) here\n",
    "\n",
    "    model.add(Conv2D(nkernels[1], kernel_size=(1,8), strides=(1,1), padding='same', kernel_regularizer=regularizers.l2(l2_lam)))\n",
    "    model.add(Activation('relu'))\n",
    "    model.add(MaxPooling2D(pool_size=(1,4), strides=(1,4)))\n",
    "    model.add(Dropout(0.2))\n",
    "\n",
    "    model.add(Conv2D(nkernels[1], kernel_size=(1,8), strides=(1,1), padding='same', kernel_regularizer=regularizers.l2(l2_lam)))\n",
    "    model.add(Activation('relu'))\n",
    "    model.add(Dropout(0.5))\n",
    "\n",
    "    model.add(Flatten())\n",
    "    model.add(Dense(919, kernel_regularizer=regularizers.l1(l1_lam)))\n",
    "    model.add(Activation('relu'))\n",
    "    model.add(Dense(1, kernel_regularizer=regularizers.l1(l1_lam)))\n",
    "    model.add(Activation('sigmoid'))\n",
    "    \n",
    "    return model"
   ]
  },
  {
   "cell_type": "markdown",
   "metadata": {},
   "source": [
    "# Loading the data\n",
    "\n",
    "Preprocessing the data set and saving it to the dat direcotry."
   ]
  },
  {
   "cell_type": "code",
   "execution_count": 7,
   "metadata": {
    "collapsed": false
   },
   "outputs": [],
   "source": [
    "# data loading\n",
    "\n",
    "test_X, test_Y = loaddata(\"../../ee595/data/deepsea/\", \"test\")\n",
    "train_X, train_Y = loaddata(\"../../ee595/data/deepsea/\", \"train\")\n",
    "valid_X, valid_Y = loaddata(\"../../ee595/data/deepsea/\", \"valid\")"
   ]
  },
  {
   "cell_type": "code",
   "execution_count": 39,
   "metadata": {
    "collapsed": true
   },
   "outputs": [],
   "source": [
    "# data loading\n",
    "\n",
    "train_atac = np.load(\"atactrain.npy\")\n",
    "test_atac = np.load(\"atactest.npy\")\n",
    "valid_atac = np.load(\"atacvalid.npy\")"
   ]
  },
  {
   "cell_type": "code",
   "execution_count": 40,
   "metadata": {
    "collapsed": true
   },
   "outputs": [],
   "source": [
    "train_atac = np.expand_dims(train_atac, 1)\n",
    "test_atac = np.expand_dims(test_atac, 1)\n",
    "valid_atac = np.expand_dims(valid_atac, 1)"
   ]
  },
  {
   "cell_type": "code",
   "execution_count": 29,
   "metadata": {
    "collapsed": true
   },
   "outputs": [],
   "source": [
    "# index\n",
    "\n",
    "trainindex = np.load(\"trainindex.npy\")\n",
    "testindex = np.load(\"testindex.npy\")\n",
    "validindex = np.load(\"validindex.npy\")"
   ]
  },
  {
   "cell_type": "code",
   "execution_count": 28,
   "metadata": {
    "collapsed": false
   },
   "outputs": [],
   "source": [
    "# generating index\n",
    "\n",
    "data = valid_Y\n",
    "positives = [i for i in range(data.shape[0]) if data[i, 2] == 1]\n",
    "negatives = [i for i in range(data.shape[0]) if data[i, 2] == 0]\n",
    "np.random.shuffle(negatives)\n",
    "index = positives+negatives[:len(positives)]\n",
    "index = sorted(index)\n",
    "np.save(\"validindex\", index)"
   ]
  },
  {
   "cell_type": "code",
   "execution_count": 41,
   "metadata": {
    "collapsed": false
   },
   "outputs": [],
   "source": [
    "train_X = train_X[trainindex]\n",
    "test_X = test_X[testindex]\n",
    "valid_X = valid_X[validindex]"
   ]
  },
  {
   "cell_type": "code",
   "execution_count": 45,
   "metadata": {
    "collapsed": false
   },
   "outputs": [],
   "source": [
    "train_Y = train_Y[trainindex][:,2]\n",
    "test_Y = test_Y[testindex][:,2]\n",
    "valid_Y = valid_Y[validindex][:,2]"
   ]
  },
  {
   "cell_type": "code",
   "execution_count": 49,
   "metadata": {
    "collapsed": false
   },
   "outputs": [],
   "source": [
    "train_atac = np.concatenate([train_atac, train_atac], axis=0)[trainindex]\n",
    "test_atac = np.concatenate([test_atac, test_atac], axis=0)[testindex]\n",
    "valid_atac = np.concatenate([valid_atac, valid_atac], axis=0)[validindex]"
   ]
  },
  {
   "cell_type": "code",
   "execution_count": 58,
   "metadata": {
    "collapsed": false
   },
   "outputs": [],
   "source": [
    "valid_X2 = np.concatenate([valid_X, valid_atac], axis=3)\n",
    "test_X2 = np.concatenate([test_X, test_atac], axis=3)\n",
    "train_X2 = np.concatenate([train_X, train_atac], axis=3)"
   ]
  },
  {
   "cell_type": "code",
   "execution_count": 62,
   "metadata": {
    "collapsed": false
   },
   "outputs": [],
   "source": [
    "np.save(\"trainx\", train_X2)\n",
    "np.save(\"testx\", test_X2)\n",
    "np.save(\"validx\", valid_X2)"
   ]
  },
  {
   "cell_type": "code",
   "execution_count": 63,
   "metadata": {
    "collapsed": true
   },
   "outputs": [],
   "source": [
    "np.save(\"trainy\", train_Y)\n",
    "np.save(\"testy\", test_Y)\n",
    "np.save(\"validy\", valid_Y)"
   ]
  },
  {
   "cell_type": "markdown",
   "metadata": {},
   "source": [
    "# Training starts\n",
    "\n",
    "Deepsea and atacpeak are both trained on the same dataset."
   ]
  },
  {
   "cell_type": "code",
   "execution_count": 64,
   "metadata": {
    "collapsed": true
   },
   "outputs": [],
   "source": [
    "model = ATACPeak()\n",
    "model.compile(optimizer='adam',\n",
    "              loss='binary_crossentropy',\n",
    "              metrics=['accuracy'])"
   ]
  },
  {
   "cell_type": "code",
   "execution_count": 65,
   "metadata": {
    "collapsed": true
   },
   "outputs": [],
   "source": [
    "filepath=\"weights-improvement-{epoch:02d}-{val_loss:.2f}-full.hdf5\"\n",
    "checkpoint = ModelCheckpoint(filepath, monitor='val_loss', verbose=1, save_best_only=True, mode='min')\n",
    "callbacks_list = [checkpoint]"
   ]
  },
  {
   "cell_type": "code",
   "execution_count": 112,
   "metadata": {
    "collapsed": false
   },
   "outputs": [
    {
     "name": "stdout",
     "output_type": "stream",
     "text": [
      "Epoch 00005: val_loss did not improve\n",
      "Epoch 00006: val_loss improved from 0.47596 to 0.46885, saving model to weights-improvement-06-0.47-full.hdf5\n",
      "Epoch 00007: val_loss improved from 0.46885 to 0.46479, saving model to weights-improvement-07-0.46-full.hdf5\n",
      "Epoch 00008: val_loss did not improve\n",
      "Epoch 00009: val_loss did not improve\n",
      "Epoch 00010: val_loss did not improve\n",
      "Epoch 00011: val_loss did not improve\n",
      "Epoch 00012: val_loss did not improve\n",
      "Epoch 00013: val_loss did not improve\n",
      "Epoch 00014: val_loss did not improve\n",
      "Epoch 00015: val_loss did not improve\n",
      "Epoch 00016: val_loss did not improve\n",
      "Epoch 00017: val_loss did not improve\n",
      "Epoch 00018: val_loss did not improve\n",
      "Epoch 00019: val_loss did not improve\n"
     ]
    }
   ],
   "source": [
    "result = model.fit(train_X2, train_Y,\n",
    "          epochs=20, \n",
    "          batch_size=256,\n",
    "          callbacks=callbacks_list,\n",
    "          initial_epoch=5, \n",
    "          validation_data=(valid_X2, valid_Y),\n",
    "          verbose=0)"
   ]
  },
  {
   "cell_type": "code",
   "execution_count": 150,
   "metadata": {
    "collapsed": false
   },
   "outputs": [
    {
     "data": {
      "text/plain": [
       "<matplotlib.legend.Legend at 0x7f39964ab450>"
      ]
     },
     "execution_count": 150,
     "metadata": {},
     "output_type": "execute_result"
    },
    {
     "data": {
      "image/png": "[encoded data removed]",
      "text/plain": [
       "<matplotlib.figure.Figure at 0x7f398f1ee8d0>"
      ]
     },
     "metadata": {},
     "output_type": "display_data"
    }
   ],
   "source": [
    "# learning path\n",
    "result = load_result([\"model/atacpeak_history.pkl\", \"model/atacpeak_history2.pkl\"])\n",
    "\n",
    "plt.figure(figsize=(6,3))\n",
    "plt.subplot(\"121\")\n",
    "plt.plot(range(len(result[\"loss\"])), result[\"loss\"], label=\"train_loss\")\n",
    "plt.plot(range(len(result[\"val_loss\"])), result[\"val_loss\"], label=\"val_loss\")\n",
    "plt.xlabel(\"epochs\")\n",
    "plt.ylabel(\"logloss\")\n",
    "plt.legend()\n",
    "\n",
    "plt.subplot(\"122\")\n",
    "plt.plot(range(len(result[\"acc\"])), result[\"acc\"], label=\"train_acc\")\n",
    "plt.plot(range(len(result[\"val_acc\"])), result[\"val_acc\"], label=\"val_acc\")\n",
    "plt.xlabel(\"epochs\")\n",
    "plt.ylabel(\"accuracy\")\n",
    "plt.legend()"
   ]
  },
  {
   "cell_type": "markdown",
   "metadata": {},
   "source": [
    "Training deepsea on the same condition"
   ]
  },
  {
   "cell_type": "code",
   "execution_count": 120,
   "metadata": {
    "collapsed": true
   },
   "outputs": [],
   "source": [
    "model = DeepSEA()\n",
    "model.compile(optimizer='adam',\n",
    "              loss='binary_crossentropy',\n",
    "              metrics=['accuracy'])"
   ]
  },
  {
   "cell_type": "code",
   "execution_count": 121,
   "metadata": {
    "collapsed": true
   },
   "outputs": [],
   "source": [
    "filepath=\"weights-improvement-{epoch:02d}-{val_loss:.2f}-deepsea.hdf5\"\n",
    "checkpoint = ModelCheckpoint(filepath, monitor='val_loss', verbose=1, save_best_only=True, mode='min')\n",
    "callbacks_list = [checkpoint]"
   ]
  },
  {
   "cell_type": "code",
   "execution_count": 122,
   "metadata": {
    "collapsed": false
   },
   "outputs": [
    {
     "name": "stdout",
     "output_type": "stream",
     "text": [
      "Epoch 00005: val_loss improved from inf to 8.05984, saving model to weights-improvement-05-8.06-full.hdf5\n",
      "Epoch 00006: val_loss improved from 8.05984 to 8.05933, saving model to weights-improvement-06-8.06-full.hdf5\n",
      "Epoch 00007: val_loss improved from 8.05933 to 8.05914, saving model to weights-improvement-07-8.06-full.hdf5\n",
      "Epoch 00008: val_loss improved from 8.05914 to 0.57834, saving model to weights-improvement-08-0.58-full.hdf5\n",
      "Epoch 00009: val_loss did not improve\n",
      "Epoch 00010: val_loss improved from 0.57834 to 0.52783, saving model to weights-improvement-10-0.53-full.hdf5\n",
      "Epoch 00011: val_loss improved from 0.52783 to 0.52225, saving model to weights-improvement-11-0.52-full.hdf5\n",
      "Epoch 00012: val_loss improved from 0.52225 to 0.51816, saving model to weights-improvement-12-0.52-full.hdf5\n",
      "Epoch 00013: val_loss improved from 0.51816 to 0.50182, saving model to weights-improvement-13-0.50-full.hdf5\n",
      "Epoch 00014: val_loss did not improve\n",
      "Epoch 00015: val_loss improved from 0.50182 to 0.49323, saving model to weights-improvement-15-0.49-full.hdf5\n",
      "Epoch 00016: val_loss did not improve\n",
      "Epoch 00017: val_loss improved from 0.49323 to 0.48859, saving model to weights-improvement-17-0.49-full.hdf5\n",
      "Epoch 00018: val_loss improved from 0.48859 to 0.48151, saving model to weights-improvement-18-0.48-full.hdf5\n",
      "Epoch 00019: val_loss did not improve\n"
     ]
    }
   ],
   "source": [
    "result = model.fit(train_X, train_Y,\n",
    "          epochs=20, \n",
    "          batch_size=256,\n",
    "          callbacks=callbacks_list,\n",
    "          initial_epoch=5, \n",
    "          validation_data=(valid_X, valid_Y),\n",
    "          verbose=0)"
   ]
  },
  {
   "cell_type": "code",
   "execution_count": 151,
   "metadata": {
    "collapsed": false
   },
   "outputs": [
    {
     "data": {
      "text/plain": [
       "<matplotlib.legend.Legend at 0x7f399689d2d0>"
      ]
     },
     "execution_count": 151,
     "metadata": {},
     "output_type": "execute_result"
    },
    {
     "data": {
      "image/png": "[encoded data removed]",
      "text/plain": [
       "<matplotlib.figure.Figure at 0x7f398f44d950>"
      ]
     },
     "metadata": {},
     "output_type": "display_data"
    }
   ],
   "source": [
    "# learning path\n",
    "result = load_result([\"model/deepsea_history.pkl\"])\n",
    "\n",
    "plt.figure(figsize=(6,3))\n",
    "plt.subplot(\"121\")\n",
    "plt.plot(range(len(result[\"loss\"])), result[\"loss\"], label=\"train_loss\")\n",
    "plt.plot(range(len(result[\"val_loss\"])), result[\"val_loss\"], label=\"val_loss\")\n",
    "plt.xlabel(\"epochs\")\n",
    "plt.ylabel(\"logloss\")\n",
    "plt.legend()\n",
    "\n",
    "plt.subplot(\"122\")\n",
    "plt.plot(range(len(result[\"acc\"])), result[\"acc\"], label=\"train_acc\")\n",
    "plt.plot(range(len(result[\"val_acc\"])), result[\"val_acc\"], label=\"val_acc\")\n",
    "plt.xlabel(\"epochs\")\n",
    "plt.ylabel(\"accuracy\")\n",
    "plt.legend()"
   ]
  },
  {
   "cell_type": "markdown",
   "metadata": {},
   "source": [
    "Comparing the minimum trainig loss for both models"
   ]
  },
  {
   "cell_type": "code",
   "execution_count": 165,
   "metadata": {
    "collapsed": false
   },
   "outputs": [
    {
     "name": "stdout",
     "output_type": "stream",
     "text": [
      "DEEPSEA (training loss): 0.462422104664 14th epoch\n",
      "ATACPEAK (training loss): 0.34529576431 19th epoch\n"
     ]
    }
   ],
   "source": [
    "result = load_result([\"model/deepsea_history.pkl\"])\n",
    "print \"DEEPSEA (training loss):\", np.min(result[\"loss\"]), str(np.argmin(result[\"loss\"]))+ \"th epoch\"\n",
    "\n",
    "result = load_result([\"model/atacpeak_history.pkl\", \"model/atacpeak_history2.pkl\"])\n",
    "print \"ATACPEAK (training loss):\", np.min(result[\"loss\"]), str(np.argmin(result[\"loss\"]))+ \"th epoch\""
   ]
  },
  {
   "cell_type": "markdown",
   "metadata": {},
   "source": [
    "# ROC curve\n",
    "\n",
    "Comparing area under ROC curve generated from the test set for deepsea and atacpeak trained on the same model."
   ]
  },
  {
   "cell_type": "markdown",
   "metadata": {},
   "source": [
    "atacpeak"
   ]
  },
  {
   "cell_type": "code",
   "execution_count": 136,
   "metadata": {
    "collapsed": true
   },
   "outputs": [],
   "source": [
    "model1 = load_model(\"model/atacpeak-07.hdf5\")"
   ]
  },
  {
   "cell_type": "code",
   "execution_count": 137,
   "metadata": {
    "collapsed": false
   },
   "outputs": [],
   "source": [
    "# make a prediction\n",
    "prediction = model1.predict(test_X2)"
   ]
  },
  {
   "cell_type": "code",
   "execution_count": 138,
   "metadata": {
    "collapsed": false
   },
   "outputs": [],
   "source": [
    "fpr, tpr, _ = roc_curve(test_Y, prediction)"
   ]
  },
  {
   "cell_type": "code",
   "execution_count": 139,
   "metadata": {
    "collapsed": false
   },
   "outputs": [
    {
     "name": "stdout",
     "output_type": "stream",
     "text": [
      "0.878457196414\n"
     ]
    },
    {
     "data": {
      "image/png": "[encoded data removed]",
      "text/plain": [
       "<matplotlib.figure.Figure at 0x7f399256ce10>"
      ]
     },
     "metadata": {},
     "output_type": "display_data"
    }
   ],
   "source": [
    "plt.figure(figsize=(4,3))\n",
    "plt.plot(fpr, tpr)\n",
    "plt.xlabel(\"fpr\")\n",
    "plt.ylabel(\"tpr\")\n",
    "plt.title(\"ROC curve (ATAC-peak)\")\n",
    "print roc_auc_score(test_Y, prediction)"
   ]
  },
  {
   "cell_type": "markdown",
   "metadata": {},
   "source": [
    "deepsea"
   ]
  },
  {
   "cell_type": "code",
   "execution_count": 141,
   "metadata": {
    "collapsed": false
   },
   "outputs": [],
   "source": [
    "model2 = load_model(\"model/deepsea-18.hdf5\")"
   ]
  },
  {
   "cell_type": "code",
   "execution_count": 142,
   "metadata": {
    "collapsed": false
   },
   "outputs": [],
   "source": [
    "prediction2 = model2.predict(test_X)"
   ]
  },
  {
   "cell_type": "code",
   "execution_count": 144,
   "metadata": {
    "collapsed": false
   },
   "outputs": [
    {
     "name": "stdout",
     "output_type": "stream",
     "text": [
      "0.866682905814\n"
     ]
    },
    {
     "data": {
      "image/png": "[encoded data removed]",
      "text/plain": [
       "<matplotlib.figure.Figure at 0x7f39906e7810>"
      ]
     },
     "metadata": {},
     "output_type": "display_data"
    }
   ],
   "source": [
    "plt.figure(figsize=(4,3))\n",
    "plt.plot(fpr, tpr)\n",
    "plt.xlabel(\"fpr\")\n",
    "plt.ylabel(\"tpr\")\n",
    "plt.title(\"ROC curve (DeepSEA)\")\n",
    "print roc_auc_score(test_Y, prediction2)"
   ]
  },
  {
   "cell_type": "markdown",
   "metadata": {},
   "source": [
    "# Explaining\n",
    "\n",
    "Integrated gradients explanation of deepsea and ATACpeak models."
   ]
  },
  {
   "cell_type": "code",
   "execution_count": 166,
   "metadata": {
    "collapsed": true
   },
   "outputs": [],
   "source": [
    "index = [i for i in range(len(test_Y)) if test_Y[i] == 1 and prediction[i] > 0.95]"
   ]
  },
  {
   "cell_type": "code",
   "execution_count": 167,
   "metadata": {
    "collapsed": false
   },
   "outputs": [],
   "source": [
    "ig = integrated_gradients(model1, verbose=0)"
   ]
  },
  {
   "cell_type": "code",
   "execution_count": 168,
   "metadata": {
    "collapsed": false
   },
   "outputs": [
    {
     "data": {
      "text/plain": [
       "([], <a list of 0 Text xticklabel objects>)"
      ]
     },
     "execution_count": 168,
     "metadata": {},
     "output_type": "execute_result"
    },
    {
     "data": {
      "image/png": "[encoded data removed]",
      "text/plain": [
       "<matplotlib.figure.Figure at 0x7f398fb60410>"
      ]
     },
     "metadata": {},
     "output_type": "display_data"
    }
   ],
   "source": [
    "ex = ig.explain(test_X2[index[1]])[0][400:600]\n",
    "plt.figure(figsize=(12,1))\n",
    "sns.heatmap(np.transpose(ex), cbar=False)\n",
    "plt.yticks([],[])\n",
    "plt.xticks([],[])"
   ]
  },
  {
   "cell_type": "code",
   "execution_count": 169,
   "metadata": {
    "collapsed": false
   },
   "outputs": [
    {
     "data": {
      "text/plain": [
       "([], <a list of 0 Text xticklabel objects>)"
      ]
     },
     "execution_count": 169,
     "metadata": {},
     "output_type": "execute_result"
    },
    {
     "data": {
      "image/png": "[encoded data removed]",
      "text/plain": [
       "<matplotlib.figure.Figure at 0x7f399609da90>"
      ]
     },
     "metadata": {},
     "output_type": "display_data"
    }
   ],
   "source": [
    "ex = ig.explain(test_X2[index[100]])[0][400:600]\n",
    "plt.figure(figsize=(12,1))\n",
    "sns.heatmap(np.transpose(ex), cbar=False)\n",
    "plt.yticks([],[])\n",
    "plt.xticks([],[])"
   ]
  },
  {
   "cell_type": "code",
   "execution_count": 170,
   "metadata": {
    "collapsed": false
   },
   "outputs": [
    {
     "data": {
      "text/plain": [
       "([], <a list of 0 Text xticklabel objects>)"
      ]
     },
     "execution_count": 170,
     "metadata": {},
     "output_type": "execute_result"
    },
    {
     "data": {
      "image/png": "[encoded data removed]",
      "text/plain": [
       "<matplotlib.figure.Figure at 0x7f3995b12510>"
      ]
     },
     "metadata": {},
     "output_type": "display_data"
    }
   ],
   "source": [
    "ex = ig.explain(test_X2[index[150]])[0][400:600]\n",
    "plt.figure(figsize=(12,1))\n",
    "sns.heatmap(np.transpose(ex), cbar=False)\n",
    "plt.yticks([],[])\n",
    "plt.xticks([],[])"
   ]
  }
 ],
 "metadata": {
  "kernelspec": {
   "display_name": "Python 2",
   "language": "python",
   "name": "python2"
  },
  "language_info": {
   "codemirror_mode": {
    "name": "ipython",
    "version": 2
   },
   "file_extension": ".py",
   "mimetype": "text/x-python",
   "name": "python",
   "nbconvert_exporter": "python",
   "pygments_lexer": "ipython2",
   "version": "2.7.13"
  }
 },
 "nbformat": 4,
 "nbformat_minor": 2
}
